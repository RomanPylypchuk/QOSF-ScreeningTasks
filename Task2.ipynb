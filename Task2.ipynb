{
 "cells": [
  {
   "cell_type": "code",
   "execution_count": 22,
   "metadata": {},
   "outputs": [],
   "source": [
    "import pennylane as qml\n",
    "from pennylane import numpy as np"
   ]
  },
  {
   "cell_type": "code",
   "execution_count": 23,
   "metadata": {},
   "outputs": [],
   "source": [
    "#Want theta=pi/2, so RY(pi/2) creates |x> state for 1st qubit,\n",
    "#and rest RY, CNOT, RY is actually inverse CNOT\n",
    "#Measure X@X, which will give sin(theta)\n",
    "def bell_plus_minus(theta):\n",
    "    qml.RY(theta, wires=0)\n",
    "    qml.RY(np.pi, wires=0)\n",
    "    qml.CNOT(wires=[0,1])\n",
    "    qml.RY(-np.pi, wires=0)\n",
    "    return qml.expval(qml.PauliX(0) @ qml.PauliX(1))"
   ]
  },
  {
   "cell_type": "code",
   "execution_count": 24,
   "metadata": {},
   "outputs": [],
   "source": [
    "#Specify different numbers of measurements\n",
    "num_meas = [1, 10, 100, 1000]"
   ]
  },
  {
   "cell_type": "code",
   "execution_count": 25,
   "metadata": {},
   "outputs": [],
   "source": [
    "make_device = lambda samples: qml.device('default.qubit', wires=2, shots=samples, analytic=False)\n",
    "#Create different devices with corresponding numbers of measurements\n",
    "sampling_devices = map(make_device, num_meas)\n",
    "\n",
    "make_qnode = lambda device: qml.QNode(bell_plus_minus, device)\n",
    "#Create qnodes with same circuit, but different sampling devices\n",
    "qnodes = map(make_qnode, sampling_devices)"
   ]
  },
  {
   "cell_type": "code",
   "execution_count": 26,
   "metadata": {},
   "outputs": [],
   "source": [
    "#This is higher order function, which\n",
    "#given QNode returns same cost function, but evaluated via that QNode\n",
    "#Minimum of cost corresponds to theta=pi/2\n",
    "def make_cost(qnode):\n",
    "    def cost(theta):\n",
    "        return (qnode(theta) - 1)**2\n",
    "    return cost"
   ]
  },
  {
   "cell_type": "code",
   "execution_count": 27,
   "metadata": {},
   "outputs": [],
   "source": [
    "#Create different cost functions, corresponding to same circuit, \n",
    "#but different numbers of measurements\n",
    "qnodes_costs = list(map(make_cost, qnodes))"
   ]
  },
  {
   "cell_type": "code",
   "execution_count": 28,
   "metadata": {},
   "outputs": [],
   "source": [
    "#Optimize theta for given cost function(made of QNode)\n",
    "def optimize(qnode_cost):\n",
    "    opt = qml.GradientDescentOptimizer(stepsize=0.4)\n",
    "    params = 0.01\n",
    "    steps = 1000\n",
    "    for i in range(steps):\n",
    "        params = opt.step(qnode_cost, params)\n",
    "    return params"
   ]
  },
  {
   "cell_type": "code",
   "execution_count": 29,
   "metadata": {},
   "outputs": [],
   "source": [
    "#Find thetas for different numbers of measurements\n",
    "thetas = list(map(optimize, qnodes_costs))"
   ]
  },
  {
   "cell_type": "code",
   "execution_count": 30,
   "metadata": {},
   "outputs": [
    {
     "name": "stdout",
     "output_type": "stream",
     "text": [
      "[1.61, 1.5460000000000003, 1.5404000000000013, 1.5352128]\n"
     ]
    }
   ],
   "source": [
    "print(thetas)"
   ]
  },
  {
   "cell_type": "code",
   "execution_count": null,
   "metadata": {},
   "outputs": [],
   "source": []
  }
 ],
 "metadata": {
  "kernelspec": {
   "display_name": "Python 3",
   "language": "python",
   "name": "python3"
  },
  "language_info": {
   "codemirror_mode": {
    "name": "ipython",
    "version": 3
   },
   "file_extension": ".py",
   "mimetype": "text/x-python",
   "name": "python",
   "nbconvert_exporter": "python",
   "pygments_lexer": "ipython3",
   "version": "3.7.5"
  }
 },
 "nbformat": 4,
 "nbformat_minor": 4
}
